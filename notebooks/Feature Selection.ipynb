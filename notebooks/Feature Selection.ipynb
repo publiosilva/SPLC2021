{
 "cells": [
  {
   "cell_type": "code",
   "execution_count": 3,
   "id": "laughing-original",
   "metadata": {},
   "outputs": [],
   "source": [
    "import pandas as pd\n",
    "\n",
    "from sklearn.preprocessing import StandardScaler, MinMaxScaler\n",
    "from sklearn.feature_selection import SelectKBest, mutual_info_classif"
   ]
  },
  {
   "cell_type": "code",
   "execution_count": 4,
   "id": "smaller-hardwood",
   "metadata": {
    "scrolled": false
   },
   "outputs": [
    {
     "data": {
      "text/plain": [
       "Number of Features                      -0.609042\n",
       "Number of Mandatory Features            -0.459651\n",
       "Number of Leaf Features                 -0.594790\n",
       " Depth of Tree Max                      -0.537294\n",
       "Cognitive Complexity of Feature Model   -0.540805\n",
       "Feature Extensibility                   -0.592558\n",
       "Number of Groups OR                     -0.390399\n",
       "Number of Groups XOR                    -0.418288\n",
       " Maintainability                         1.000000\n",
       "Name:  Maintainability, dtype: float64"
      ]
     },
     "execution_count": 4,
     "metadata": {},
     "output_type": "execute_result"
    }
   ],
   "source": [
    "# Análise de correlação\n",
    "\n",
    "maintainability_categories = {\n",
    "    'verybad': 1,\n",
    "    'bad': 2,\n",
    "    'moderate': 3,\n",
    "    'good': 4,\n",
    "    'verygood': 5\n",
    "}\n",
    "maintainability_converter = lambda x: maintainability_categories[x]\n",
    "\n",
    "dataset1 = pd.read_csv('./files/dataset.csv', converters={\" Maintainability\": maintainability_converter})\n",
    "dataset1_corr = dataset1.corr()\n",
    "dataset1_corr_mean = dataset1_corr[\" Maintainability\"].abs().mean()\n",
    "dataset1_corr[\" Maintainability\"][dataset1_corr[\" Maintainability\"].abs() >= abs(dataset1_corr_mean)]"
   ]
  },
  {
   "cell_type": "code",
   "execution_count": null,
   "id": "received-commander",
   "metadata": {},
   "outputs": [],
   "source": []
  }
 ],
 "metadata": {
  "kernelspec": {
   "display_name": "Python 3",
   "language": "python",
   "name": "python3"
  },
  "language_info": {
   "codemirror_mode": {
    "name": "ipython",
    "version": 3
   },
   "file_extension": ".py",
   "mimetype": "text/x-python",
   "name": "python",
   "nbconvert_exporter": "python",
   "pygments_lexer": "ipython3",
   "version": "3.8.5"
  }
 },
 "nbformat": 4,
 "nbformat_minor": 5
}
